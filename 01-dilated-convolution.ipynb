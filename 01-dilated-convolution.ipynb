{
 "cells": [
  {
   "cell_type": "code",
   "execution_count": 7,
   "id": "d2d4dd5f",
   "metadata": {},
   "outputs": [],
   "source": [
    "import torch"
   ]
  },
  {
   "cell_type": "code",
   "execution_count": 2,
   "id": "a1d60bf2",
   "metadata": {},
   "outputs": [],
   "source": [
    "from torch.nn import Conv1d"
   ]
  },
  {
   "cell_type": "code",
   "execution_count": 3,
   "id": "fbd56400",
   "metadata": {},
   "outputs": [],
   "source": [
    "kernel_size = 3\n",
    "\n",
    "dilatedConv = Conv1d(1, 1, kernel_size=kernel_size, dilation=2)"
   ]
  },
  {
   "cell_type": "code",
   "execution_count": 4,
   "id": "0e5be01e",
   "metadata": {},
   "outputs": [],
   "source": [
    "params = list(dilatedConv.parameters())\n",
    "weight, bias = params[0].data, params[1].data"
   ]
  },
  {
   "cell_type": "code",
   "execution_count": 8,
   "id": "9425348e",
   "metadata": {},
   "outputs": [],
   "source": [
    "example_tensor = torch.tensor([[[1.,2.,3.,4.,5.,6.,7.,8.,9.,10.]]])"
   ]
  },
  {
   "cell_type": "code",
   "execution_count": 6,
   "id": "445d8383",
   "metadata": {},
   "outputs": [
    {
     "data": {
      "text/plain": [
       "tensor([[[3.3973, 3.8965, 4.3957, 4.8949, 5.3942, 5.8934]]],\n",
       "       grad_fn=<ConvolutionBackward0>)"
      ]
     },
     "execution_count": 6,
     "metadata": {},
     "output_type": "execute_result"
    }
   ],
   "source": [
    "dilatedConv(example_tensor)"
   ]
  },
  {
   "cell_type": "code",
   "execution_count": 9,
   "id": "3252c600",
   "metadata": {},
   "outputs": [
    {
     "name": "stdout",
     "output_type": "stream",
     "text": [
      "tensor([3.3973])\n",
      "tensor([3.8965])\n",
      "tensor([4.3957])\n",
      "tensor([4.8949])\n",
      "tensor([5.3942])\n",
      "tensor([5.8934])\n",
      "tensor([3.3973, 3.8965, 4.3957, 4.8949, 5.3942, 5.8934])\n"
     ]
    }
   ],
   "source": [
    "num_examples, kernal_shape =  example_tensor.shape[-1], weight.shape[-1]\n",
    "dilation = 2\n",
    "\n",
    "activations = torch.tensor([])\n",
    "for i in range(num_examples -kernal_shape-1):\n",
    "    data = example_tensor[:,:,i:i+kernal_shape*dilation:dilation]\n",
    "    activation = data.squeeze(0) @ weight.squeeze_(0).T + bias\n",
    "    print(activation)\n",
    "    activations = torch.cat((activations, activation))\n",
    "\n",
    "print(activations)"
   ]
  },
  {
   "cell_type": "code",
   "execution_count": 10,
   "id": "5460a4b4",
   "metadata": {},
   "outputs": [
    {
     "data": {
      "text/plain": [
       "tensor([[[3.3973, 3.8965, 4.3957, 4.8949, 5.3942, 5.8934]]])"
      ]
     },
     "execution_count": 10,
     "metadata": {},
     "output_type": "execute_result"
    }
   ],
   "source": [
    "def dialtedConv(inputs, weight, bias):\n",
    "    num_examples, kernal_shape =  inputs.shape[-1], weight.shape[-1]\n",
    "    \n",
    "    activations = torch.tensor([])\n",
    "    for i in range(num_examples -kernal_shape-1):\n",
    "        data = inputs[:,:,i:i+kernal_shape*dilation:dilation]\n",
    "        activation = data.squeeze(0) @ weight.squeeze_(0).T + bias\n",
    "        activations = torch.cat((activations, activation))\n",
    "        \n",
    "    return activations.view(1,1,-1)\n",
    "\n",
    "dialtedConv(example_tensor, weight, bias)   "
   ]
  },
  {
   "cell_type": "code",
   "execution_count": 11,
   "id": "dc8ae95c",
   "metadata": {},
   "outputs": [],
   "source": [
    "import torch.nn as nn"
   ]
  },
  {
   "cell_type": "code",
   "execution_count": 12,
   "id": "b049c411",
   "metadata": {},
   "outputs": [
    {
     "data": {
      "text/plain": [
       "[1, 2, 4, 8, 16, 32, 64, 128, 256, 512]"
      ]
     },
     "execution_count": 12,
     "metadata": {},
     "output_type": "execute_result"
    }
   ],
   "source": [
    "layers_dilation = [2**i for i in range(10)]\n",
    "layers_dilation"
   ]
  },
  {
   "cell_type": "code",
   "execution_count": 36,
   "id": "ab0fa863",
   "metadata": {},
   "outputs": [
    {
     "data": {
      "text/plain": [
       "[Conv1d(1, 1, kernel_size=(3,), stride=(1,)),\n",
       " Conv1d(1, 1, kernel_size=(3,), stride=(1,), dilation=(2,)),\n",
       " Conv1d(1, 1, kernel_size=(3,), stride=(1,), dilation=(4,)),\n",
       " Conv1d(1, 1, kernel_size=(3,), stride=(1,), dilation=(8,)),\n",
       " Conv1d(1, 1, kernel_size=(3,), stride=(1,), dilation=(16,)),\n",
       " Conv1d(1, 1, kernel_size=(3,), stride=(1,), dilation=(32,)),\n",
       " Conv1d(1, 1, kernel_size=(3,), stride=(1,), dilation=(64,)),\n",
       " Conv1d(1, 1, kernel_size=(3,), stride=(1,), dilation=(128,)),\n",
       " Conv1d(1, 1, kernel_size=(3,), stride=(1,), dilation=(256,)),\n",
       " Conv1d(1, 1, kernel_size=(3,), stride=(1,), dilation=(512,))]"
      ]
     },
     "execution_count": 36,
     "metadata": {},
     "output_type": "execute_result"
    }
   ],
   "source": [
    "stacked_layers = [Conv1d(1, 1, padding=0, kernel_size=kernel_size, dilation=dilation) for dilation in layers_dilation]\n",
    "stacked_layers"
   ]
  },
  {
   "cell_type": "code",
   "execution_count": 49,
   "id": "02ada63b",
   "metadata": {},
   "outputs": [
    {
     "data": {
      "text/plain": [
       "tensor([[[1.0000e+00, 2.0000e+00, 3.0000e+00,  ..., 2.0450e+03,\n",
       "          2.0460e+03, 2.0470e+03]]])"
      ]
     },
     "execution_count": 49,
     "metadata": {},
     "output_type": "execute_result"
    }
   ],
   "source": [
    "example_tensor_stacked = torch.arange(1, 512*4, dtype=torch.float).view(1,1,-1)\n",
    "example_tensor_stacked"
   ]
  },
  {
   "cell_type": "code",
   "execution_count": 50,
   "id": "44786949",
   "metadata": {},
   "outputs": [
    {
     "name": "stdout",
     "output_type": "stream",
     "text": [
      "torch.Size([1, 1, 2047])\n",
      "torch.Size([1, 1, 2045])\n",
      "torch.Size([1, 1, 2041])\n",
      "torch.Size([1, 1, 2033])\n",
      "torch.Size([1, 1, 2017])\n",
      "torch.Size([1, 1, 1985])\n",
      "torch.Size([1, 1, 1921])\n",
      "torch.Size([1, 1, 1793])\n",
      "torch.Size([1, 1, 1537])\n",
      "torch.Size([1, 1, 1025])\n"
     ]
    }
   ],
   "source": [
    "activations = example_tensor_stacked\n",
    "for layer in stacked_layers:\n",
    "    print(activations.shape)\n",
    "    activations = layer(activations)"
   ]
  },
  {
   "cell_type": "code",
   "execution_count": 4,
   "id": "12ca1665",
   "metadata": {},
   "outputs": [],
   "source": [
    "import torch.nn as nn\n",
    "\n",
    "class DialatedConv1d(nn.Conv1d):\n",
    "    def __init__(self, in_channels, out_channels, kernel_size, dilation, bias=True):\n",
    "        super(DialatedConv1d, self).__init__(in_channels, out_channels, kernel_size,\n",
    "                                             dilation=dilation, bias=bias)\n",
    "    def forward(self, inputs):\n",
    "        return super(DialatedConv1d, self).forward(inputs)"
   ]
  },
  {
   "cell_type": "code",
   "execution_count": 9,
   "id": "a6e83f6f",
   "metadata": {},
   "outputs": [
    {
     "data": {
      "text/plain": [
       "tensor([[[2.2176, 2.7410, 3.2645, 3.7879, 4.3113, 4.8348]]],\n",
       "       grad_fn=<ConvolutionBackward0>)"
      ]
     },
     "execution_count": 9,
     "metadata": {},
     "output_type": "execute_result"
    }
   ],
   "source": [
    "DialatedConv1d(1, 1, 3, 2, True)(example_tensor)"
   ]
  }
 ],
 "metadata": {
  "kernelspec": {
   "display_name": "Python 3 (ipykernel)",
   "language": "python",
   "name": "python3"
  },
  "language_info": {
   "codemirror_mode": {
    "name": "ipython",
    "version": 3
   },
   "file_extension": ".py",
   "mimetype": "text/x-python",
   "name": "python",
   "nbconvert_exporter": "python",
   "pygments_lexer": "ipython3",
   "version": "3.10.6"
  },
  "toc": {
   "base_numbering": 1,
   "nav_menu": {},
   "number_sections": true,
   "sideBar": true,
   "skip_h1_title": false,
   "title_cell": "Table of Contents",
   "title_sidebar": "Contents",
   "toc_cell": false,
   "toc_position": {},
   "toc_section_display": true,
   "toc_window_display": false
  }
 },
 "nbformat": 4,
 "nbformat_minor": 5
}
