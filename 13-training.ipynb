{
 "cells": [
  {
   "cell_type": "code",
   "execution_count": 1,
   "id": "5e54d2f0",
   "metadata": {},
   "outputs": [],
   "source": [
    "from pathlib import Path"
   ]
  },
  {
   "cell_type": "code",
   "execution_count": 2,
   "id": "0fd9c4ac",
   "metadata": {},
   "outputs": [],
   "source": [
    "path = Path(\"piano_music/\")"
   ]
  },
  {
   "cell_type": "code",
   "execution_count": 3,
   "id": "64c02ad7",
   "metadata": {},
   "outputs": [],
   "source": [
    "from data import AudioMP3Dataset, collate_fn"
   ]
  },
  {
   "cell_type": "code",
   "execution_count": 4,
   "id": "08ca4e24",
   "metadata": {},
   "outputs": [],
   "source": [
    "dataset = AudioMP3Dataset(path)"
   ]
  },
  {
   "cell_type": "code",
   "execution_count": 5,
   "id": "8a577866",
   "metadata": {},
   "outputs": [],
   "source": [
    "from torch.utils.data import DataLoader"
   ]
  },
  {
   "cell_type": "code",
   "execution_count": 6,
   "id": "de180e00",
   "metadata": {},
   "outputs": [],
   "source": [
    "dl = DataLoader(dataset, batch_size=1, collate_fn=collate_fn)"
   ]
  },
  {
   "cell_type": "code",
   "execution_count": 7,
   "id": "e21eab41",
   "metadata": {},
   "outputs": [],
   "source": [
    "from model import WaveNet"
   ]
  },
  {
   "cell_type": "code",
   "execution_count": 17,
   "id": "8d711a52",
   "metadata": {},
   "outputs": [],
   "source": [
    "res_layers = 4\n",
    "res_blocks = 1\n",
    "casual_layers = 1\n",
    "kernal_size = 3\n",
    "quantize_channels = 256\n",
    "\n",
    "model = WaveNet(res_layers, res_blocks, casual_layers, kernal_size=kernal_size)"
   ]
  },
  {
   "cell_type": "code",
   "execution_count": 9,
   "id": "2ddcadb4",
   "metadata": {},
   "outputs": [],
   "source": [
    "def calculateReceptiveField(res_layers, res_blocks, kernal_size):\n",
    "    dialtions = [2**i for i in range(res_layers)] * res_blocks\n",
    "    return (kernal_size - 1) * sum(dialtions) + 1 "
   ]
  },
  {
   "cell_type": "code",
   "execution_count": 10,
   "id": "0a63cb61",
   "metadata": {},
   "outputs": [
    {
     "data": {
      "text/plain": [
       "31"
      ]
     },
     "execution_count": 10,
     "metadata": {},
     "output_type": "execute_result"
    }
   ],
   "source": [
    "receptive_field = calculateReceptiveField(res_layers, res_blocks, 3)\n",
    "receptive_field"
   ]
  },
  {
   "cell_type": "code",
   "execution_count": 11,
   "id": "e01bf5a8",
   "metadata": {},
   "outputs": [],
   "source": [
    "for inputs in dl: break"
   ]
  },
  {
   "cell_type": "code",
   "execution_count": 12,
   "id": "bed49293",
   "metadata": {},
   "outputs": [
    {
     "data": {
      "text/plain": [
       "torch.Size([88, 1, 50000])"
      ]
     },
     "execution_count": 12,
     "metadata": {},
     "output_type": "execute_result"
    }
   ],
   "source": [
    "inputs.shape"
   ]
  },
  {
   "cell_type": "code",
   "execution_count": 37,
   "id": "79148b33",
   "metadata": {},
   "outputs": [],
   "source": [
    "import torch.optim as optim\n",
    "from torch.nn import BCELoss\n",
    "\n",
    "optimizer = optim.Adam(model.parameters(), lr=0.1)\n",
    "loss_fn = BCELoss()"
   ]
  },
  {
   "cell_type": "code",
   "execution_count": 14,
   "id": "e2aeb6fc",
   "metadata": {},
   "outputs": [],
   "source": [
    "def one_mask_step(model, inputs, i, optimizer, loss_fn, quantize_channels):\n",
    "    pass"
   ]
  },
  {
   "cell_type": "code",
   "execution_count": 15,
   "id": "ec344803",
   "metadata": {},
   "outputs": [],
   "source": [
    "import torch\n",
    "from preprocess import muLaw\n",
    "from torch.nn.functional import one_hot"
   ]
  },
  {
   "cell_type": "code",
   "execution_count": 18,
   "id": "6b68f2c2",
   "metadata": {},
   "outputs": [
    {
     "name": "stdout",
     "output_type": "stream",
     "text": [
      "Loss: 0.025579487904906273\n"
     ]
    }
   ],
   "source": [
    "masked_inputs = inputs[:,:,:receptive_field+1]\n",
    "\n",
    "optimizer.zero_grad()\n",
    "\n",
    "pred = model(masked_inputs)\n",
    "\n",
    "targets = muLaw(inputs[:,:,receptive_field+2])\n",
    "one_hot_target = one_hot(targets, num_classes=quantize_channels)\n",
    "one_hot_target = one_hot_target.transpose(1, 2).to(torch.float)\n",
    "\n",
    "loss = loss_fn(pred, one_hot_target)\n",
    "loss.backward()\n",
    "\n",
    "optimizer.step()\n",
    "print(f\"Loss: {loss.item()}\")"
   ]
  },
  {
   "cell_type": "code",
   "execution_count": 19,
   "id": "f69fa660",
   "metadata": {},
   "outputs": [],
   "source": [
    "import torch\n",
    "from preprocess import muLaw\n",
    "from torch.nn.functional import one_hot\n",
    "\n",
    "def one_mask_step(model, inputs, mask_index, optimizer, \n",
    "                  loss_fn, quantize_channels, verbose=True):\n",
    "    masked_inputs = inputs[:,:,:mask_index]\n",
    "\n",
    "    optimizer.zero_grad()\n",
    "\n",
    "    pred = model(masked_inputs)\n",
    "\n",
    "    targets = muLaw(inputs[:,:,mask_index+1])\n",
    "    one_hot_target = one_hot(targets, num_classes=quantize_channels)\n",
    "    one_hot_target = one_hot_target.transpose(1, 2).to(torch.float)\n",
    "\n",
    "    loss = loss_fn(pred, one_hot_target)\n",
    "    loss.backward()\n",
    "\n",
    "    optimizer.step()\n",
    "    if verbose:\n",
    "        print(f\"Loss: {loss.item()}\")"
   ]
  },
  {
   "cell_type": "code",
   "execution_count": 43,
   "id": "bfedbec1",
   "metadata": {},
   "outputs": [
    {
     "name": "stdout",
     "output_type": "stream",
     "text": [
      "Loss: 0.7546164989471436\n"
     ]
    }
   ],
   "source": [
    "one_mask_step(model, inputs, receptive_field+1, optimizer, loss_fn, 256)"
   ]
  },
  {
   "cell_type": "code",
   "execution_count": 44,
   "id": "6a94323e",
   "metadata": {},
   "outputs": [
    {
     "name": "stdout",
     "output_type": "stream",
     "text": [
      "Loss: 0.7546164989471436\n"
     ]
    }
   ],
   "source": [
    "for i in range(receptive_field+1, inputs.size(-1)):\n",
    "    one_mask_step(model, inputs, i, optimizer, loss_fn, 256)\n",
    "    break"
   ]
  },
  {
   "cell_type": "code",
   "execution_count": null,
   "id": "6a182d8e",
   "metadata": {},
   "outputs": [],
   "source": []
  },
  {
   "cell_type": "code",
   "execution_count": null,
   "id": "a4620783",
   "metadata": {},
   "outputs": [],
   "source": []
  }
 ],
 "metadata": {
  "kernelspec": {
   "display_name": "Python 3 (ipykernel)",
   "language": "python",
   "name": "python3"
  },
  "language_info": {
   "codemirror_mode": {
    "name": "ipython",
    "version": 3
   },
   "file_extension": ".py",
   "mimetype": "text/x-python",
   "name": "python",
   "nbconvert_exporter": "python",
   "pygments_lexer": "ipython3",
   "version": "3.10.6"
  },
  "toc": {
   "base_numbering": 1,
   "nav_menu": {},
   "number_sections": true,
   "sideBar": true,
   "skip_h1_title": false,
   "title_cell": "Table of Contents",
   "title_sidebar": "Contents",
   "toc_cell": false,
   "toc_position": {},
   "toc_section_display": true,
   "toc_window_display": false
  }
 },
 "nbformat": 4,
 "nbformat_minor": 5
}
