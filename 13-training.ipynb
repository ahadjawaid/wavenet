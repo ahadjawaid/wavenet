{
 "cells": [
  {
   "cell_type": "code",
   "execution_count": 1,
   "id": "e32e1bf9",
   "metadata": {},
   "outputs": [],
   "source": [
    "from pathlib import Path"
   ]
  },
  {
   "cell_type": "code",
   "execution_count": 2,
   "id": "24bec947",
   "metadata": {},
   "outputs": [],
   "source": [
    "path = Path(\"piano_music/\")"
   ]
  },
  {
   "cell_type": "code",
   "execution_count": 3,
   "id": "bb0b1b9c",
   "metadata": {},
   "outputs": [],
   "source": [
    "from data import AudioMP3Dataset, collate_fn"
   ]
  },
  {
   "cell_type": "code",
   "execution_count": 4,
   "id": "20128ad9",
   "metadata": {},
   "outputs": [],
   "source": [
    "dataset = AudioMP3Dataset(path)"
   ]
  },
  {
   "cell_type": "code",
   "execution_count": 5,
   "id": "31fd1251",
   "metadata": {},
   "outputs": [],
   "source": [
    "from torch.utils.data import DataLoader"
   ]
  },
  {
   "cell_type": "code",
   "execution_count": 6,
   "id": "e7c11257",
   "metadata": {},
   "outputs": [],
   "source": [
    "dl = DataLoader(dataset, batch_size=1, collate_fn=collate_fn)"
   ]
  },
  {
   "cell_type": "code",
   "execution_count": 7,
   "id": "e09a5384",
   "metadata": {},
   "outputs": [],
   "source": [
    "from model import WaveNet"
   ]
  },
  {
   "cell_type": "code",
   "execution_count": 8,
   "id": "22464084",
   "metadata": {},
   "outputs": [],
   "source": [
    "res_layers = 4\n",
    "res_blocks = 1\n",
    "casual_layers = 1\n",
    "kernal_size = 3\n",
    "\n",
    "model = WaveNet(res_layers, res_blocks, casual_layers, kernal_size=kernal_size)"
   ]
  },
  {
   "cell_type": "code",
   "execution_count": 9,
   "id": "8d89aeb5",
   "metadata": {},
   "outputs": [],
   "source": [
    "def calculateReceptiveField(res_layers, res_blocks, kernal_size):\n",
    "    dialtions = [2**i for i in range(res_layers)] * res_blocks\n",
    "    return (kernal_size - 1) * sum(dialtions) + 1 "
   ]
  },
  {
   "cell_type": "code",
   "execution_count": 10,
   "id": "4cc5ac30",
   "metadata": {},
   "outputs": [
    {
     "data": {
      "text/plain": [
       "31"
      ]
     },
     "execution_count": 10,
     "metadata": {},
     "output_type": "execute_result"
    }
   ],
   "source": [
    "receptive_field = calculateReceptiveField(res_layers, res_blocks, 3)\n",
    "receptive_field"
   ]
  },
  {
   "cell_type": "code",
   "execution_count": 11,
   "id": "3d9be914",
   "metadata": {},
   "outputs": [],
   "source": [
    "for inputs in dl: break"
   ]
  },
  {
   "cell_type": "code",
   "execution_count": 12,
   "id": "46e68ae8",
   "metadata": {},
   "outputs": [
    {
     "data": {
      "text/plain": [
       "torch.Size([88, 1, 50000])"
      ]
     },
     "execution_count": 12,
     "metadata": {},
     "output_type": "execute_result"
    }
   ],
   "source": [
    "inputs.shape"
   ]
  },
  {
   "cell_type": "code",
   "execution_count": 13,
   "id": "e676f5fa",
   "metadata": {},
   "outputs": [],
   "source": [
    "from torch.optim import SGD\n",
    "from torch.nn import BCELoss\n",
    "\n",
    "optimizer = SGD(model.parameters(), lr=0.01)\n",
    "loss_fn = BCELoss()"
   ]
  },
  {
   "cell_type": "code",
   "execution_count": 14,
   "id": "92b68c08",
   "metadata": {},
   "outputs": [],
   "source": [
    "def one_mask_step(model, inputs, i, optimizer, loss_fn, quantize_channels):\n",
    "    pass"
   ]
  },
  {
   "cell_type": "code",
   "execution_count": 15,
   "id": "b2f75e23",
   "metadata": {},
   "outputs": [],
   "source": [
    "import torch\n",
    "from preprocess import muLaw\n",
    "from torch.nn.functional import one_hot"
   ]
  },
  {
   "cell_type": "code",
   "execution_count": 16,
   "id": "987ebb4b",
   "metadata": {},
   "outputs": [
    {
     "ename": "NameError",
     "evalue": "name 'quantize_channels' is not defined",
     "output_type": "error",
     "traceback": [
      "\u001b[0;31m---------------------------------------------------------------------------\u001b[0m",
      "\u001b[0;31mNameError\u001b[0m                                 Traceback (most recent call last)",
      "Input \u001b[0;32mIn [16]\u001b[0m, in \u001b[0;36m<cell line: 8>\u001b[0;34m()\u001b[0m\n\u001b[1;32m      5\u001b[0m pred \u001b[38;5;241m=\u001b[39m model(masked_inputs)\n\u001b[1;32m      7\u001b[0m targets \u001b[38;5;241m=\u001b[39m muLaw(inputs[:,:,receptive_field\u001b[38;5;241m+\u001b[39m\u001b[38;5;241m2\u001b[39m])\n\u001b[0;32m----> 8\u001b[0m one_hot_target \u001b[38;5;241m=\u001b[39m one_hot(targets, num_classes\u001b[38;5;241m=\u001b[39m\u001b[43mquantize_channels\u001b[49m)\n\u001b[1;32m      9\u001b[0m one_hot_target \u001b[38;5;241m=\u001b[39m one_hot_target\u001b[38;5;241m.\u001b[39mtranspose(\u001b[38;5;241m1\u001b[39m, \u001b[38;5;241m2\u001b[39m)\u001b[38;5;241m.\u001b[39mto(torch\u001b[38;5;241m.\u001b[39mfloat)\n\u001b[1;32m     11\u001b[0m loss \u001b[38;5;241m=\u001b[39m loss_fn(pred, one_hot_target)\n",
      "\u001b[0;31mNameError\u001b[0m: name 'quantize_channels' is not defined"
     ]
    }
   ],
   "source": [
    "masked_inputs = inputs[:,:,:receptive_field+1]\n",
    "\n",
    "optimizer.zero_grad()\n",
    "\n",
    "pred = model(masked_inputs)\n",
    "\n",
    "targets = muLaw(inputs[:,:,receptive_field+2])\n",
    "one_hot_target = one_hot(targets, num_classes=quantize_channels)\n",
    "one_hot_target = one_hot_target.transpose(1, 2).to(torch.float)\n",
    "\n",
    "loss = loss_fn(pred, one_hot_target)\n",
    "loss.backward()\n",
    "\n",
    "optimizer.step()\n",
    "print(f\"Loss: {loss.item()}\")"
   ]
  },
  {
   "cell_type": "code",
   "execution_count": null,
   "id": "7d9331cb",
   "metadata": {},
   "outputs": [],
   "source": [
    "import torch\n",
    "from preprocess import muLaw\n",
    "from torch.nn.functional import one_hot\n",
    "\n",
    "def one_mask_step(model, inputs, mask_index, optimizer, \n",
    "                  loss_fn, quantize_channels, verbose=True):\n",
    "    masked_inputs = inputs[:,:,:mask_index]\n",
    "\n",
    "    optimizer.zero_grad()\n",
    "\n",
    "    pred = model(masked_inputs)\n",
    "\n",
    "    targets = muLaw(inputs[:,:,mask_index+1])\n",
    "    one_hot_target = one_hot(targets, num_classes=quantize_channels)\n",
    "    one_hot_target = one_hot_target.transpose(1, 2).to(torch.float)\n",
    "\n",
    "    loss = loss_fn(pred, one_hot_target)\n",
    "    loss.backward()\n",
    "\n",
    "    optimizer.step()\n",
    "    if verbose:\n",
    "        print(f\"Loss: {loss.item()}\")"
   ]
  },
  {
   "cell_type": "code",
   "execution_count": null,
   "id": "ee5558ee",
   "metadata": {},
   "outputs": [],
   "source": [
    "one_mask_step(model, inputs, receptive_field+1, optimizer, loss_fn, 256)"
   ]
  },
  {
   "cell_type": "code",
   "execution_count": null,
   "id": "4bed5349",
   "metadata": {},
   "outputs": [],
   "source": [
    "for i in range(receptive_field+1, inputs.size(-1)):\n",
    "    one_mask_step(model, inputs, i, optimizer, loss_fn, 256)\n",
    "    break"
   ]
  },
  {
   "cell_type": "code",
   "execution_count": null,
   "id": "5e0d09a0",
   "metadata": {},
   "outputs": [],
   "source": []
  }
 ],
 "metadata": {
  "kernelspec": {
   "display_name": "Python 3 (ipykernel)",
   "language": "python",
   "name": "python3"
  },
  "language_info": {
   "codemirror_mode": {
    "name": "ipython",
    "version": 3
   },
   "file_extension": ".py",
   "mimetype": "text/x-python",
   "name": "python",
   "nbconvert_exporter": "python",
   "pygments_lexer": "ipython3",
   "version": "3.10.6"
  },
  "toc": {
   "base_numbering": 1,
   "nav_menu": {},
   "number_sections": true,
   "sideBar": true,
   "skip_h1_title": false,
   "title_cell": "Table of Contents",
   "title_sidebar": "Contents",
   "toc_cell": false,
   "toc_position": {},
   "toc_section_display": true,
   "toc_window_display": false
  }
 },
 "nbformat": 4,
 "nbformat_minor": 5
}
