{
 "cells": [
  {
   "cell_type": "code",
   "execution_count": 78,
   "id": "f77e6578",
   "metadata": {},
   "outputs": [],
   "source": [
    "import torch\n",
    "import torchaudio.datasets as datasets"
   ]
  },
  {
   "cell_type": "code",
   "execution_count": 6,
   "id": "034d8a2f",
   "metadata": {},
   "outputs": [],
   "source": [
    "dataset = datasets.LJSPEECH(\"../data\")"
   ]
  },
  {
   "cell_type": "code",
   "execution_count": 3,
   "id": "07ec3a65",
   "metadata": {},
   "outputs": [],
   "source": [
    "from torch.utils.data import DataLoader"
   ]
  },
  {
   "cell_type": "code",
   "execution_count": 11,
   "id": "743b275a",
   "metadata": {},
   "outputs": [],
   "source": [
    "dataloader = DataLoader(dataset, batch_size=64)"
   ]
  },
  {
   "cell_type": "code",
   "execution_count": 95,
   "id": "85ee2a12",
   "metadata": {},
   "outputs": [],
   "source": [
    "from torch.nn.functional import pad\n",
    "from torchaudio.functional import resample\n",
    "\n",
    "def collate_fn(batched_data, resample_rate=0):\n",
    "    if resample_rate > 0:\n",
    "        resampled_waveforms = list(map(lambda x: resample(x[0], x[1], resample_rate), batched_data))\n",
    "        batched_data = [(resampled_waveforms[i], resample_rate, batched_data[i][2], batched_data[i][3]) \n",
    "                        for i in range(len(batched_data))]\n",
    "    \n",
    "    max_size = max(list(map(lambda x: x[0].size(-1), batched_data)))\n",
    "    padded_waveforms = list(map(lambda x: pad(x[0], (0, max_size-x[0].size(-1))), batched_data))\n",
    "    stacked_waveforms = torch.stack(padded_waveforms)\n",
    "    \n",
    "    normalized_transcripts = list(map(lambda x: x[3], batched_data))\n",
    "\n",
    "    return (stacked_waveforms, normalized_transcripts)"
   ]
  },
  {
   "cell_type": "code",
   "execution_count": 96,
   "id": "154e499e",
   "metadata": {},
   "outputs": [],
   "source": [
    "dataloader = DataLoader(dataset, batch_size=64, collate_fn=collate_fn_16000)"
   ]
  },
  {
   "cell_type": "code",
   "execution_count": 97,
   "id": "e4e7fe71",
   "metadata": {},
   "outputs": [],
   "source": [
    "for item in dataloader: break"
   ]
  },
  {
   "cell_type": "code",
   "execution_count": null,
   "id": "b637b1e1",
   "metadata": {},
   "outputs": [],
   "source": []
  }
 ],
 "metadata": {
  "kernelspec": {
   "display_name": "Python 3 (ipykernel)",
   "language": "python",
   "name": "python3"
  },
  "language_info": {
   "codemirror_mode": {
    "name": "ipython",
    "version": 3
   },
   "file_extension": ".py",
   "mimetype": "text/x-python",
   "name": "python",
   "nbconvert_exporter": "python",
   "pygments_lexer": "ipython3",
   "version": "3.10.6"
  },
  "toc": {
   "base_numbering": 1,
   "nav_menu": {},
   "number_sections": true,
   "sideBar": true,
   "skip_h1_title": false,
   "title_cell": "Table of Contents",
   "title_sidebar": "Contents",
   "toc_cell": false,
   "toc_position": {},
   "toc_section_display": true,
   "toc_window_display": false
  }
 },
 "nbformat": 4,
 "nbformat_minor": 5
}
