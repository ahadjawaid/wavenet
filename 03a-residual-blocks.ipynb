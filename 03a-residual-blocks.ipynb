{
 "cells": [
  {
   "cell_type": "code",
   "execution_count": null,
   "id": "c6c4cd7c",
   "metadata": {},
   "outputs": [],
   "source": [
    "import torch"
   ]
  },
  {
   "cell_type": "code",
   "execution_count": 4,
   "id": "3aa15065",
   "metadata": {},
   "outputs": [],
   "source": [
    "sample_data = torch.arange(10, dtype=torch.float).view(1,-1)"
   ]
  },
  {
   "cell_type": "code",
   "execution_count": 1,
   "id": "646e9474",
   "metadata": {},
   "outputs": [],
   "source": [
    "from model import WaveNet\n",
    "import torch.nn as nn"
   ]
  },
  {
   "cell_type": "code",
   "execution_count": 6,
   "id": "8cc19ece",
   "metadata": {},
   "outputs": [],
   "source": [
    "dialted_conv = DialatedConv1d(1,1,3,2)\n",
    "filter_conv = nn.Conv1d(1,1,3)\n",
    "gated_conv = nn.Conv1d(1,1,3)"
   ]
  },
  {
   "cell_type": "code",
   "execution_count": 7,
   "id": "665b0a00",
   "metadata": {},
   "outputs": [],
   "source": [
    "x = dialted_conv(sample_data)"
   ]
  },
  {
   "cell_type": "code",
   "execution_count": 8,
   "id": "58a39621",
   "metadata": {},
   "outputs": [
    {
     "name": "stderr",
     "output_type": "stream",
     "text": [
      "[W NNPACK.cpp:53] Could not initialize NNPACK! Reason: Unsupported hardware.\n"
     ]
    },
    {
     "data": {
      "text/plain": [
       "(tensor([[-0.5480, -0.6134, -0.6713, -0.7221]], grad_fn=<AsStridedBackward0>),\n",
       " tensor([[0.4493, 0.4181, 0.3875, 0.3578]], grad_fn=<AsStridedBackward0>))"
      ]
     },
     "execution_count": 8,
     "metadata": {},
     "output_type": "execute_result"
    }
   ],
   "source": [
    "tanh_act = torch.tanh_(filter_conv(x))\n",
    "sigmoid_act = torch.sigmoid_(gated_conv(x))\n",
    "\n",
    "tanh_act, sigmoid_act"
   ]
  },
  {
   "cell_type": "code",
   "execution_count": 11,
   "id": "9bb756d8",
   "metadata": {},
   "outputs": [
    {
     "data": {
      "text/plain": [
       "tensor([[-0.2462, -0.2564, -0.2601, -0.2584]], grad_fn=<MulBackward0>)"
      ]
     },
     "execution_count": 11,
     "metadata": {},
     "output_type": "execute_result"
    }
   ],
   "source": [
    "z = tanh_act * sigmoid_act\n",
    "z"
   ]
  },
  {
   "cell_type": "markdown",
   "id": "4dcc574a",
   "metadata": {},
   "source": [
    "The figure of the residual block along with the equation makes it seems like there are \n",
    "two convolutions for both gated and filter but in the figure there is just a dialted convolution\n",
    "and you feed the output of the two into the non linearities so with that in mind this is the correction of\n",
    "the above code\n",
    "\n",
    "This is the equation for reference that caused the missconception:\n",
    "\n",
    "z = tanh (Wf,k ∗ x) σ (Wg,k ∗ x), where W is a convolutional filter\n",
    "\n",
    "*Note: I would need to test later if this makes a difference\n",
    "*Note: Maybe instead of a gated using conv it is gated using linear unit"
   ]
  },
  {
   "cell_type": "code",
   "execution_count": 13,
   "id": "a6d95c28",
   "metadata": {},
   "outputs": [
    {
     "data": {
      "text/plain": [
       "(tensor([[0.6385, 0.6698, 0.6914, 0.7058, 0.7151, 0.7210]],\n",
       "        grad_fn=<AsStridedBackward0>),\n",
       " tensor([[0.6385, 0.6698, 0.6914, 0.7058, 0.7151, 0.7210]],\n",
       "        grad_fn=<AsStridedBackward0>))"
      ]
     },
     "execution_count": 13,
     "metadata": {},
     "output_type": "execute_result"
    }
   ],
   "source": [
    "tanh_act = torch.tanh_(x)\n",
    "sigmoid_act = torch.sigmoid_(x)\n",
    "\n",
    "tanh_act, sigmoid_act"
   ]
  },
  {
   "cell_type": "code",
   "execution_count": 14,
   "id": "cc8fdfcc",
   "metadata": {},
   "outputs": [
    {
     "data": {
      "text/plain": [
       "tensor([[0.4077, 0.4487, 0.4781, 0.4982, 0.5114, 0.5199]],\n",
       "       grad_fn=<MulBackward0>)"
      ]
     },
     "execution_count": 14,
     "metadata": {},
     "output_type": "execute_result"
    }
   ],
   "source": [
    "z = tanh_act * sigmoid_act\n",
    "z"
   ]
  },
  {
   "cell_type": "markdown",
   "id": "d1bbbbeb",
   "metadata": {},
   "source": [
    "Next we have to create a 1x1 convolution filter for residual channel and skip channels in the image there is only one but there might be neccesary that we need two seperate ones this is based on looking at other code repos"
   ]
  },
  {
   "cell_type": "markdown",
   "id": "8061dd3c",
   "metadata": {},
   "source": [
    "From looking at some repos it seems when they name variables like res channels and skip channels they mean the output size of those convolution operations"
   ]
  }
 ],
 "metadata": {
  "kernelspec": {
   "display_name": "Python 3 (ipykernel)",
   "language": "python",
   "name": "python3"
  },
  "language_info": {
   "codemirror_mode": {
    "name": "ipython",
    "version": 3
   },
   "file_extension": ".py",
   "mimetype": "text/x-python",
   "name": "python",
   "nbconvert_exporter": "python",
   "pygments_lexer": "ipython3",
   "version": "3.10.6"
  },
  "toc": {
   "base_numbering": 1,
   "nav_menu": {},
   "number_sections": true,
   "sideBar": true,
   "skip_h1_title": false,
   "title_cell": "Table of Contents",
   "title_sidebar": "Contents",
   "toc_cell": false,
   "toc_position": {},
   "toc_section_display": true,
   "toc_window_display": false
  }
 },
 "nbformat": 4,
 "nbformat_minor": 5
}
