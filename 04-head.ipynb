{
 "cells": [
  {
   "attachments": {},
   "cell_type": "markdown",
   "id": "86aefc0c",
   "metadata": {},
   "source": [
    "![](../assets/architecture.png)"
   ]
  },
  {
   "cell_type": "markdown",
   "id": "6bab8156",
   "metadata": {},
   "source": [
    "In this notebook we will be implementing the part where the skip connection go to or the so called head of the\n",
    "model there are some consideration I have to make when building this part which are:\n",
    "+ How will the skip connections be summed up?\n",
    "    + I will clip the skip connections to be the smallest of the skip connection size"
   ]
  },
  {
   "cell_type": "code",
   "execution_count": 1,
   "id": "88ba9bf7",
   "metadata": {},
   "outputs": [],
   "source": [
    "import torch"
   ]
  },
  {
   "cell_type": "code",
   "execution_count": 2,
   "id": "badedc2f",
   "metadata": {},
   "outputs": [],
   "source": [
    "from model import ResidualLayer"
   ]
  },
  {
   "cell_type": "code",
   "execution_count": 3,
   "id": "77e2f155",
   "metadata": {},
   "outputs": [],
   "source": [
    "residual_channels = 32\n",
    "skip_channels = 512\n",
    "dialation = 2\n",
    "categories = 256\n",
    "num_layers = 5"
   ]
  },
  {
   "cell_type": "code",
   "execution_count": 4,
   "id": "eb85f935",
   "metadata": {},
   "outputs": [],
   "source": [
    "inputs = torch.arange(1, 501, dtype=torch.float).view(1,1,-1)"
   ]
  },
  {
   "cell_type": "code",
   "execution_count": 5,
   "id": "d0146f2d",
   "metadata": {},
   "outputs": [
    {
     "name": "stderr",
     "output_type": "stream",
     "text": [
      "[W NNPACK.cpp:53] Could not initialize NNPACK! Reason: Unsupported hardware.\n"
     ]
    },
    {
     "data": {
      "text/plain": [
       "(torch.Size([1, 32, 496]), torch.Size([1, 512, 496]))"
      ]
     },
     "execution_count": 5,
     "metadata": {},
     "output_type": "execute_result"
    }
   ],
   "source": [
    "res_out, skip_out = ResidualLayer(dialation, 1, residual_channels, skip_channels)(inputs)\n",
    "res_out.shape, skip_out.shape"
   ]
  },
  {
   "cell_type": "code",
   "execution_count": 6,
   "id": "228a7bc0",
   "metadata": {},
   "outputs": [
    {
     "data": {
      "text/plain": [
       "[2, 4, 8, 16]"
      ]
     },
     "execution_count": 6,
     "metadata": {},
     "output_type": "execute_result"
    }
   ],
   "source": [
    "dilations_per_layer = [2**i for i in range(1, num_layers)]\n",
    "dilations_per_layer"
   ]
  },
  {
   "cell_type": "code",
   "execution_count": 7,
   "id": "43ed342e",
   "metadata": {},
   "outputs": [
    {
     "data": {
      "text/plain": [
       "5"
      ]
     },
     "execution_count": 7,
     "metadata": {},
     "output_type": "execute_result"
    }
   ],
   "source": [
    "x, skip_out = ResidualLayer(dialation, 1, residual_channels, skip_channels)(inputs)\n",
    "skip_connections = [skip_out]\n",
    "for dilation in dilations_per_layer:\n",
    "    x, skip_out = ResidualLayer(dialation, residual_channels, residual_channels, skip_channels)(x)\n",
    "    skip_connections.append(skip_out)\n",
    "\n",
    "len(skip_connections)"
   ]
  },
  {
   "cell_type": "code",
   "execution_count": 8,
   "id": "cceb7252",
   "metadata": {},
   "outputs": [
    {
     "name": "stdout",
     "output_type": "stream",
     "text": [
      "torch.Size([1, 512, 496])\n",
      "torch.Size([1, 512, 492])\n",
      "torch.Size([1, 512, 488])\n",
      "torch.Size([1, 512, 484])\n",
      "torch.Size([1, 512, 480])\n"
     ]
    }
   ],
   "source": [
    "for skip in skip_connections:\n",
    "    print(skip.shape)"
   ]
  },
  {
   "cell_type": "code",
   "execution_count": 9,
   "id": "87feebaa",
   "metadata": {},
   "outputs": [
    {
     "data": {
      "text/plain": [
       "480"
      ]
     },
     "execution_count": 9,
     "metadata": {},
     "output_type": "execute_result"
    }
   ],
   "source": [
    "smallest_skip_size = skip_connections[-1].size(2)\n",
    "smallest_skip_size"
   ]
  },
  {
   "cell_type": "code",
   "execution_count": 10,
   "id": "c43ba4c9",
   "metadata": {},
   "outputs": [],
   "source": [
    "skip_connections = list(map(lambda skip: skip[:,:,-smallest_skip_size], skip_connections))"
   ]
  },
  {
   "cell_type": "code",
   "execution_count": 13,
   "id": "1d7db852",
   "metadata": {},
   "outputs": [],
   "source": [
    "stacked_skip_connections = torch.stack(skip_connections)"
   ]
  },
  {
   "cell_type": "code",
   "execution_count": 14,
   "id": "dd6f53ed",
   "metadata": {},
   "outputs": [],
   "source": [
    "summed_skip_connections = stacked_skip_connections.sum(dim=0)"
   ]
  },
  {
   "cell_type": "code",
   "execution_count": null,
   "id": "2e951a19",
   "metadata": {},
   "outputs": [],
   "source": [
    "import torch.nn as nn\n",
    "from model import Conv1d1x1"
   ]
  },
  {
   "cell_type": "code",
   "execution_count": 25,
   "id": "b25a0a69",
   "metadata": {},
   "outputs": [],
   "source": [
    "layers = [\n",
    "    nn.ReLU(),\n",
    "    Conv1d1x1(skip_channels, skip_channels),\n",
    "    nn.ReLU(),\n",
    "    Conv1d1x1(skip_channels, categories),\n",
    "    nn.Softmax(dim=0)\n",
    "]"
   ]
  },
  {
   "cell_type": "code",
   "execution_count": 36,
   "id": "e7019a04",
   "metadata": {},
   "outputs": [
    {
     "name": "stdout",
     "output_type": "stream",
     "text": [
      "ReLU()\n",
      "torch.Size([512, 1])\n",
      "Conv1d1x1(512, 512, kernel_size=(1,), stride=(1,), bias=False)\n",
      "torch.Size([512, 1])\n",
      "ReLU()\n",
      "torch.Size([512, 1])\n",
      "Conv1d1x1(512, 256, kernel_size=(1,), stride=(1,), bias=False)\n",
      "torch.Size([512, 1])\n",
      "Softmax(dim=0)\n",
      "torch.Size([256, 1])\n",
      "torch.Size([256, 1])\n"
     ]
    }
   ],
   "source": [
    "x = summed_skip_connections.view(-1,1)\n",
    "for layer in layers:\n",
    "    print(layer)\n",
    "    print(x.shape)\n",
    "    x = layer(x)\n",
    "print(x.shape)"
   ]
  },
  {
   "cell_type": "code",
   "execution_count": 55,
   "id": "74824d62",
   "metadata": {},
   "outputs": [],
   "source": [
    "import torch.nn as nn\n",
    "from model import Conv1d1x1\n",
    "\n",
    "class Head(nn.Sequential):\n",
    "    def __init__(self, in_channels, out_channels):\n",
    "        super(Head, self).__init__(\n",
    "            nn.ReLU(),\n",
    "            Conv1d1x1(in_channels, in_channels),\n",
    "            nn.ReLU(),\n",
    "            Conv1d1x1(in_channels, out_channels),\n",
    "            nn.Softmax(dim=1)\n",
    "        )\n",
    "    def forward(self, inputs):\n",
    "        '''\n",
    "        Inputs: a torch tensor of stacked skip connections\n",
    "        '''\n",
    "        summed_inputs = inputs.sum(dim=0).view(1,-1,1)\n",
    "        return super(Head, self).forward(summed_inputs)"
   ]
  },
  {
   "cell_type": "code",
   "execution_count": 56,
   "id": "8ab66188",
   "metadata": {},
   "outputs": [
    {
     "data": {
      "text/plain": [
       "torch.Size([5, 1, 512])"
      ]
     },
     "execution_count": 56,
     "metadata": {},
     "output_type": "execute_result"
    }
   ],
   "source": [
    "stacked_skip_connections.shape"
   ]
  },
  {
   "cell_type": "code",
   "execution_count": 62,
   "id": "54b58b75",
   "metadata": {},
   "outputs": [
    {
     "data": {
      "text/plain": [
       "torch.Size([256])"
      ]
     },
     "execution_count": 62,
     "metadata": {},
     "output_type": "execute_result"
    }
   ],
   "source": [
    "Head(skip_channels, categories)(stacked_skip_connections).view(-1).shape"
   ]
  },
  {
   "cell_type": "code",
   "execution_count": null,
   "id": "6eec77f7",
   "metadata": {},
   "outputs": [],
   "source": []
  }
 ],
 "metadata": {
  "kernelspec": {
   "display_name": "Python 3 (ipykernel)",
   "language": "python",
   "name": "python3"
  },
  "language_info": {
   "codemirror_mode": {
    "name": "ipython",
    "version": 3
   },
   "file_extension": ".py",
   "mimetype": "text/x-python",
   "name": "python",
   "nbconvert_exporter": "python",
   "pygments_lexer": "ipython3",
   "version": "3.10.6"
  },
  "toc": {
   "base_numbering": 1,
   "nav_menu": {},
   "number_sections": true,
   "sideBar": true,
   "skip_h1_title": false,
   "title_cell": "Table of Contents",
   "title_sidebar": "Contents",
   "toc_cell": false,
   "toc_position": {},
   "toc_section_display": true,
   "toc_window_display": false
  }
 },
 "nbformat": 4,
 "nbformat_minor": 5
}
