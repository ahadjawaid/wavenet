{
 "cells": [
  {
   "cell_type": "code",
   "execution_count": 1,
   "id": "de227ab5",
   "metadata": {},
   "outputs": [],
   "source": [
    "from pathlib import Path"
   ]
  },
  {
   "cell_type": "code",
   "execution_count": 2,
   "id": "31dd00a4",
   "metadata": {},
   "outputs": [],
   "source": [
    "path = Path(\"piano_music/\")"
   ]
  },
  {
   "cell_type": "code",
   "execution_count": 3,
   "id": "f9ac440f",
   "metadata": {},
   "outputs": [],
   "source": [
    "import os"
   ]
  },
  {
   "cell_type": "code",
   "execution_count": 4,
   "id": "1e98ca8c",
   "metadata": {},
   "outputs": [
    {
     "data": {
      "text/plain": [
       "351"
      ]
     },
     "execution_count": 4,
     "metadata": {},
     "output_type": "execute_result"
    }
   ],
   "source": [
    "music_files = os.listdir(path)\n",
    "len(music_files)"
   ]
  },
  {
   "cell_type": "code",
   "execution_count": 5,
   "id": "e50d7df5",
   "metadata": {},
   "outputs": [],
   "source": [
    "import librosa"
   ]
  },
  {
   "cell_type": "code",
   "execution_count": 6,
   "id": "0d360147",
   "metadata": {},
   "outputs": [],
   "source": [
    "sample_rate = 16000\n",
    "waveform, _ = librosa.load(path/music_files[0], sr=sample_rate)"
   ]
  },
  {
   "cell_type": "code",
   "execution_count": 7,
   "id": "7b160501",
   "metadata": {},
   "outputs": [],
   "source": [
    "import torch"
   ]
  },
  {
   "cell_type": "code",
   "execution_count": 8,
   "id": "76ed6049",
   "metadata": {},
   "outputs": [
    {
     "data": {
      "text/plain": [
       "torch.Size([4372907])"
      ]
     },
     "execution_count": 8,
     "metadata": {},
     "output_type": "execute_result"
    }
   ],
   "source": [
    "torch.tensor(waveform).shape"
   ]
  },
  {
   "cell_type": "code",
   "execution_count": 9,
   "id": "8c05328c",
   "metadata": {},
   "outputs": [],
   "source": [
    "from torch.utils.data import Dataset, DataLoader\n",
    "from torch.nn.functional import pad\n",
    "from pathlib import Path\n",
    "import librosa\n",
    "import os\n",
    "\n",
    "class AudioMP3Dataset(Dataset):\n",
    "    def __init__(self, root_dir, transforms=None, max_len=50000, sample_rate=16000):\n",
    "        self.root_dir = Path(root_dir)\n",
    "        self.max_len = max_len\n",
    "        self.sample_rate = sample_rate\n",
    "        self.transforms = transforms\n",
    "        self.music_files = list(filter(lambda x: \".mp3\" in x, os.listdir(root_dir)))\n",
    "        \n",
    "    def __len__(self):\n",
    "        return len(self.music_files)\n",
    "    \n",
    "    def __getitem__(self, i):\n",
    "        assert type(i) == int\n",
    "        \n",
    "        waveform, sample_rate = librosa.load(path/self.music_files[i], sr=self.sample_rate)\n",
    "        waveform = torch.tensor(waveform)\n",
    "        \n",
    "        if self.transforms:\n",
    "            waveform = self.transforms(waveform)\n",
    "        \n",
    "        return waveform, sample_rate"
   ]
  },
  {
   "cell_type": "code",
   "execution_count": 10,
   "id": "a5d9aa0e",
   "metadata": {},
   "outputs": [],
   "source": [
    "dataset = AudioMP3Dataset(path)"
   ]
  },
  {
   "cell_type": "code",
   "execution_count": 11,
   "id": "f56dfc1c",
   "metadata": {},
   "outputs": [],
   "source": [
    "def collate_fn(batch, max_len=50000):\n",
    "    split_waveform = []\n",
    "    for waveform, _ in batch:\n",
    "        for i in range(0, waveform.size(-1), max_len):\n",
    "            split_waveform.append(waveform[i:i+max_len])\n",
    "\n",
    "        split_waveform[-1] = pad(split_waveform[-1], (0, max_len - split_waveform[-1].size(-1)))\n",
    "    split_waveform = torch.stack(split_waveform).unsqueeze(1)\n",
    "    \n",
    "    return split_waveform"
   ]
  },
  {
   "cell_type": "code",
   "execution_count": 12,
   "id": "b14e57b2",
   "metadata": {},
   "outputs": [],
   "source": [
    "dl = DataLoader(dataset, batch_size=1, collate_fn=collate_fn)"
   ]
  },
  {
   "cell_type": "code",
   "execution_count": 13,
   "id": "628ec1da",
   "metadata": {},
   "outputs": [],
   "source": [
    "from model import WaveNet"
   ]
  },
  {
   "cell_type": "code",
   "execution_count": 14,
   "id": "4b144cf6",
   "metadata": {},
   "outputs": [],
   "source": [
    "model = WaveNet(2, 2, 2)"
   ]
  },
  {
   "cell_type": "code",
   "execution_count": 15,
   "id": "152779df",
   "metadata": {},
   "outputs": [],
   "source": [
    "for inputs in dl:\n",
    "    break"
   ]
  },
  {
   "cell_type": "code",
   "execution_count": 16,
   "id": "563e302a",
   "metadata": {},
   "outputs": [
    {
     "data": {
      "text/plain": [
       "torch.Size([88, 1, 5000])"
      ]
     },
     "execution_count": 16,
     "metadata": {},
     "output_type": "execute_result"
    }
   ],
   "source": [
    "inputs[:,0,:5000].unsqueeze(1).shape"
   ]
  },
  {
   "cell_type": "code",
   "execution_count": 18,
   "id": "aef46d9c",
   "metadata": {},
   "outputs": [
    {
     "name": "stdout",
     "output_type": "stream",
     "text": [
      "torch.Size([88, 256, 5000])\n"
     ]
    },
    {
     "data": {
      "text/plain": [
       "torch.Size([88, 256, 1])"
      ]
     },
     "execution_count": 18,
     "metadata": {},
     "output_type": "execute_result"
    }
   ],
   "source": [
    "out = model(inputs[:,0,:5000].unsqueeze(1))\n",
    "out.shape"
   ]
  },
  {
   "cell_type": "code",
   "execution_count": 23,
   "id": "29c263a7",
   "metadata": {},
   "outputs": [
    {
     "data": {
      "text/plain": [
       "torch.Size([88, 1])"
      ]
     },
     "execution_count": 23,
     "metadata": {},
     "output_type": "execute_result"
    }
   ],
   "source": [
    "pred = torch.argmax(out, dim=1)\n",
    "pred.shape"
   ]
  },
  {
   "cell_type": "code",
   "execution_count": 24,
   "id": "b887ec4b",
   "metadata": {},
   "outputs": [],
   "source": [
    "from preprocess import decodeMuLaw"
   ]
  },
  {
   "cell_type": "code",
   "execution_count": 26,
   "id": "95200acc",
   "metadata": {},
   "outputs": [
    {
     "data": {
      "text/plain": [
       "tensor([[-0.6602],\n",
       "        [-0.0077],\n",
       "        [-0.6602],\n",
       "        [-0.6602],\n",
       "        [-0.0077]])"
      ]
     },
     "execution_count": 26,
     "metadata": {},
     "output_type": "execute_result"
    }
   ],
   "source": [
    "decodeMuLaw(pred)[:5]"
   ]
  },
  {
   "cell_type": "code",
   "execution_count": null,
   "id": "36434572",
   "metadata": {},
   "outputs": [],
   "source": []
  }
 ],
 "metadata": {
  "kernelspec": {
   "display_name": "Python 3 (ipykernel)",
   "language": "python",
   "name": "python3"
  },
  "language_info": {
   "codemirror_mode": {
    "name": "ipython",
    "version": 3
   },
   "file_extension": ".py",
   "mimetype": "text/x-python",
   "name": "python",
   "nbconvert_exporter": "python",
   "pygments_lexer": "ipython3",
   "version": "3.10.6"
  },
  "toc": {
   "base_numbering": 1,
   "nav_menu": {},
   "number_sections": true,
   "sideBar": true,
   "skip_h1_title": false,
   "title_cell": "Table of Contents",
   "title_sidebar": "Contents",
   "toc_cell": false,
   "toc_position": {},
   "toc_section_display": true,
   "toc_window_display": false
  }
 },
 "nbformat": 4,
 "nbformat_minor": 5
}
