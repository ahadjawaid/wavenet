{
 "cells": [
  {
   "attachments": {},
   "cell_type": "markdown",
   "id": "2953fede",
   "metadata": {},
   "source": [
    "![](../assets/architecture.png)"
   ]
  },
  {
   "cell_type": "markdown",
   "id": "6a97195f",
   "metadata": {},
   "source": [
    "In this notebook we will be putting all the pieces together to form the full wavenet architecture. Some considerations are:\n",
    "- Resizing the global and local conditioning inputs\n",
    "- How many casual convolution\n",
    "- What blocks are\n",
    "- Any changes we have to make the model trainable"
   ]
  },
  {
   "cell_type": "code",
   "execution_count": 1,
   "id": "c4b9c77f",
   "metadata": {},
   "outputs": [],
   "source": [
    "from model import CasualConv1D, ResidualLayer, Head"
   ]
  },
  {
   "cell_type": "code",
   "execution_count": 2,
   "id": "85b48cee",
   "metadata": {},
   "outputs": [],
   "source": [
    "import torch\n",
    "import torchaudio.datasets as datasets"
   ]
  },
  {
   "cell_type": "code",
   "execution_count": 3,
   "id": "94878687",
   "metadata": {},
   "outputs": [],
   "source": [
    "dataset = datasets.LJSPEECH(\"../data\")"
   ]
  },
  {
   "cell_type": "code",
   "execution_count": 4,
   "id": "1df7da6b",
   "metadata": {},
   "outputs": [
    {
     "data": {
      "text/plain": [
       "(tensor([[-7.3242e-04, -7.6294e-04, -6.4087e-04,  ...,  7.3242e-04,\n",
       "           2.1362e-04,  6.1035e-05]]),\n",
       " 22050,\n",
       " 'Printing, in the only sense with which we are at present concerned, differs from most if not from all the arts and crafts represented in the Exhibition')"
      ]
     },
     "execution_count": 4,
     "metadata": {},
     "output_type": "execute_result"
    }
   ],
   "source": [
    "waveform, sample_rate, transcript, normalized_transcript = dataset[0]\n",
    "\n",
    "waveform, sample_rate, normalized_transcript"
   ]
  },
  {
   "cell_type": "code",
   "execution_count": 5,
   "id": "40388dab",
   "metadata": {},
   "outputs": [],
   "source": [
    "from preprocess import quantize_and_onehot_waveform"
   ]
  },
  {
   "cell_type": "code",
   "execution_count": 6,
   "id": "109de1ea",
   "metadata": {},
   "outputs": [],
   "source": [
    "quantize_categories = 256 # From the paper\n",
    "residual_channels = 32\n",
    "gate_channels = 32\n",
    "skip_channels = 512"
   ]
  },
  {
   "cell_type": "code",
   "execution_count": 7,
   "id": "a4730f05",
   "metadata": {},
   "outputs": [],
   "source": [
    "waveform = waveform.view(1,1,-1)"
   ]
  },
  {
   "cell_type": "code",
   "execution_count": 8,
   "id": "b99862b6",
   "metadata": {},
   "outputs": [
    {
     "data": {
      "text/plain": [
       "torch.Size([1, 256, 212893])"
      ]
     },
     "execution_count": 8,
     "metadata": {},
     "output_type": "execute_result"
    }
   ],
   "source": [
    "processed_waveform = quantize_and_onehot_waveform(waveform)\n",
    "processed_waveform.shape"
   ]
  },
  {
   "cell_type": "code",
   "execution_count": 9,
   "id": "d561a490",
   "metadata": {},
   "outputs": [
    {
     "data": {
      "text/plain": [
       "torch.Size([1, 32, 212892])"
      ]
     },
     "execution_count": 9,
     "metadata": {},
     "output_type": "execute_result"
    }
   ],
   "source": [
    "cas_out = CasualConv1D(quantize_categories, residual_channels)(processed_waveform.to(torch.float))\n",
    "cas_out.shape"
   ]
  },
  {
   "cell_type": "code",
   "execution_count": 10,
   "id": "45f1ac17",
   "metadata": {},
   "outputs": [
    {
     "name": "stdout",
     "output_type": "stream",
     "text": [
      "5\n"
     ]
    }
   ],
   "source": [
    "layers = 5\n",
    "skip_connections = []\n",
    "x = cas_out\n",
    "for i in range(layers):\n",
    "    x, skip_out = ResidualLayer(2**i, residual_channels, gate_channels, skip_channels)(x)\n",
    "    skip_connections.append(skip_out)\n",
    "    \n",
    "print(len(skip_connections))"
   ]
  },
  {
   "cell_type": "code",
   "execution_count": 11,
   "id": "3606cd3c",
   "metadata": {},
   "outputs": [
    {
     "name": "stdout",
     "output_type": "stream",
     "text": [
      "torch.Size([1, 512, 212890])\n",
      "torch.Size([1, 512, 212886])\n",
      "torch.Size([1, 512, 212878])\n",
      "torch.Size([1, 512, 212862])\n",
      "torch.Size([1, 512, 212830])\n"
     ]
    }
   ],
   "source": [
    "for skip in skip_connections:\n",
    "    print(skip.shape)"
   ]
  },
  {
   "cell_type": "code",
   "execution_count": 12,
   "id": "f6ab82b0",
   "metadata": {},
   "outputs": [],
   "source": [
    "skip_connections = list(map(lambda skip: skip[:,:,-skip_connections[-1].size(2)], skip_connections))\n",
    "skip_connections = torch.stack(skip_connections)"
   ]
  },
  {
   "cell_type": "code",
   "execution_count": 13,
   "id": "e1ec2496",
   "metadata": {},
   "outputs": [
    {
     "data": {
      "text/plain": [
       "torch.Size([5, 1, 512])"
      ]
     },
     "execution_count": 13,
     "metadata": {},
     "output_type": "execute_result"
    }
   ],
   "source": [
    "skip_connections.shape"
   ]
  },
  {
   "cell_type": "code",
   "execution_count": 14,
   "id": "89ca4dbd",
   "metadata": {},
   "outputs": [
    {
     "name": "stderr",
     "output_type": "stream",
     "text": [
      "[W NNPACK.cpp:53] Could not initialize NNPACK! Reason: Unsupported hardware.\n"
     ]
    },
    {
     "data": {
      "text/plain": [
       "torch.Size([1, 256, 1])"
      ]
     },
     "execution_count": 14,
     "metadata": {},
     "output_type": "execute_result"
    }
   ],
   "source": [
    "head_out = Head(skip_channels, quantize_categories)(skip_connections)\n",
    "head_out.shape"
   ]
  },
  {
   "cell_type": "code",
   "execution_count": 21,
   "id": "9aa19aad",
   "metadata": {},
   "outputs": [],
   "source": [
    "import torch.nn as nn\n",
    "from preprocess import quantize_and_onehot_waveform\n",
    "\n",
    "class WaveNet(nn.Module):\n",
    "    def __init__(self, num_residual_layers, num_blocks, num_casual_layers, residual_channels=32, \n",
    "                 gate_channels=32, skip_channels=512, quantize_channels=256, local_channels=0, \n",
    "                 global_channels=0, device=None):\n",
    "        super(WaveNet, self).__init__()\n",
    "        \n",
    "        self.casual_layers = [CasualConv1D(quantize_channels, residual_channels, device=device)]\n",
    "        for i in range(num_casual_layers-1): \n",
    "            self.casual_layers.append(CasualConv1D(residual_channels, residual_channels, device=device))\n",
    "        self.casual_layers = nn.Sequential(*self.casual_layers)\n",
    "        \n",
    "        residual_layers = [\n",
    "            ResidualLayer(2**i, residual_channels, gate_channels, skip_channels,\n",
    "                          local_channels, global_channels, device=device) for i in range(num_residual_layers)\n",
    "        ]\n",
    "        self.residual_blocks = nn.ModuleList(residual_layers * num_blocks)\n",
    "        \n",
    "        self.head = Head(skip_channels, quantize_channels)\n",
    "        \n",
    "    \n",
    "    def forward(self, inputs, local_inputs=None, global_inputs=None):\n",
    "        batch_size, _, time_steps = inputs.size()\n",
    "        \n",
    "        processed_inputs = quantize_and_onehot_waveform(inputs)\n",
    "        casual_out = self.casual_layers(processed_inputs)\n",
    "        \n",
    "        residual_out = casual_out\n",
    "        skip_connections = []\n",
    "        for residual_layer in self.residual_blocks:\n",
    "            if local_inputs != None:\n",
    "                # Resize local inputs\n",
    "                pass\n",
    "            \n",
    "            if global_inputs != None:\n",
    "                # Resize global inputs\n",
    "                pass\n",
    "            \n",
    "            residual_out, skip_out = residual_layer(residual_out, local_inputs, global_inputs)\n",
    "            skip_connections.append(skip_out)\n",
    "        \n",
    "        skip_connections = list(map(lambda skip: skip[:,:,-skip_connections[-1].size(2)], skip_connections))\n",
    "        skip_connections = torch.stack(skip_connections)\n",
    "    \n",
    "        head_out = self.head(skip_connections)\n",
    "        return head_out"
   ]
  },
  {
   "cell_type": "code",
   "execution_count": 43,
   "id": "45e4df49",
   "metadata": {},
   "outputs": [],
   "source": [
    "probs = WaveNet(2, 2, 2)(waveform)"
   ]
  },
  {
   "cell_type": "code",
   "execution_count": 44,
   "id": "60bab92c",
   "metadata": {},
   "outputs": [
    {
     "data": {
      "text/plain": [
       "tensor(74)"
      ]
     },
     "execution_count": 44,
     "metadata": {},
     "output_type": "execute_result"
    }
   ],
   "source": [
    "max_prob = torch.argmax(probs.view(-1))\n",
    "max_prob"
   ]
  },
  {
   "cell_type": "code",
   "execution_count": 45,
   "id": "b0ea33ab",
   "metadata": {},
   "outputs": [],
   "source": [
    "from preprocess import decodeMuLaw"
   ]
  },
  {
   "cell_type": "code",
   "execution_count": 46,
   "id": "58827964",
   "metadata": {},
   "outputs": [
    {
     "data": {
      "text/plain": [
       "tensor(-0.0371)"
      ]
     },
     "execution_count": 46,
     "metadata": {},
     "output_type": "execute_result"
    }
   ],
   "source": [
    "decoded_output = decodeMuLaw(max_prob)\n",
    "decoded_output"
   ]
  },
  {
   "cell_type": "code",
   "execution_count": null,
   "id": "a9b84aef",
   "metadata": {},
   "outputs": [],
   "source": []
  }
 ],
 "metadata": {
  "kernelspec": {
   "display_name": "Python 3 (ipykernel)",
   "language": "python",
   "name": "python3"
  },
  "language_info": {
   "codemirror_mode": {
    "name": "ipython",
    "version": 3
   },
   "file_extension": ".py",
   "mimetype": "text/x-python",
   "name": "python",
   "nbconvert_exporter": "python",
   "pygments_lexer": "ipython3",
   "version": "3.10.6"
  },
  "toc": {
   "base_numbering": 1,
   "nav_menu": {},
   "number_sections": true,
   "sideBar": true,
   "skip_h1_title": false,
   "title_cell": "Table of Contents",
   "title_sidebar": "Contents",
   "toc_cell": false,
   "toc_position": {},
   "toc_section_display": true,
   "toc_window_display": false
  }
 },
 "nbformat": 4,
 "nbformat_minor": 5
}
