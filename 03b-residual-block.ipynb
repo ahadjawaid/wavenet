{
 "cells": [
  {
   "attachments": {},
   "cell_type": "markdown",
   "id": "6d247e81",
   "metadata": {},
   "source": [
    "![](../assets/architecture.png)"
   ]
  },
  {
   "cell_type": "markdown",
   "id": "796fe654",
   "metadata": {},
   "source": [
    "In this notebook we will make the residual layer with a couple of design decisions since the paper didn't specify\n",
    "+ There will be two dialted convolution one for each non linearity\n",
    "+ There will be two 1x1 convolutions one for skip connections and the other for residual connections\n",
    "+ Clip the inputs when adding to the residual outputs"
   ]
  },
  {
   "cell_type": "code",
   "execution_count": 1,
   "id": "a9dd61c4",
   "metadata": {},
   "outputs": [],
   "source": [
    "import torch"
   ]
  },
  {
   "cell_type": "code",
   "execution_count": 37,
   "id": "2d2dba34",
   "metadata": {},
   "outputs": [],
   "source": [
    "residual_channels = 32\n",
    "skip_channels = 512\n",
    "dilation = 2"
   ]
  },
  {
   "cell_type": "code",
   "execution_count": 3,
   "id": "9e88415b",
   "metadata": {},
   "outputs": [
    {
     "data": {
      "text/plain": [
       "(tensor([[[ 1.,  2.,  3.,  4.,  5.,  6.,  7.,  8.,  9., 10., 11., 12., 13., 14.,\n",
       "           15., 16., 17., 18., 19., 20.]]]),\n",
       " torch.Size([1, 1, 20]))"
      ]
     },
     "execution_count": 3,
     "metadata": {},
     "output_type": "execute_result"
    }
   ],
   "source": [
    "inputs = torch.arange(1, 21, dtype=torch.float).view(1,1,-1)\n",
    "inputs, inputs.shape"
   ]
  },
  {
   "cell_type": "code",
   "execution_count": 5,
   "id": "ad077563",
   "metadata": {},
   "outputs": [
    {
     "ename": "ModuleNotFoundError",
     "evalue": "No module named 'WaveNet'",
     "output_type": "error",
     "traceback": [
      "\u001b[0;31m---------------------------------------------------------------------------\u001b[0m",
      "\u001b[0;31mModuleNotFoundError\u001b[0m                       Traceback (most recent call last)",
      "\u001b[1;32m/Users/tk541/programming/ml/torch/speech/wavenet/notebooks/03b-residual-block.ipynb Cell 6\u001b[0m in \u001b[0;36m<cell line: 1>\u001b[0;34m()\u001b[0m\n\u001b[0;32m----> <a href='vscode-notebook-cell:/Users/tk541/programming/ml/torch/speech/wavenet/notebooks/03b-residual-block.ipynb#W5sZmlsZQ%3D%3D?line=0'>1</a>\u001b[0m \u001b[39mfrom\u001b[39;00m \u001b[39mWaveNet\u001b[39;00m\u001b[39m.\u001b[39;00m\u001b[39mmodel\u001b[39;00m \u001b[39mimport\u001b[39;00m DialatedConv1d\n",
      "\u001b[0;31mModuleNotFoundError\u001b[0m: No module named 'WaveNet'"
     ]
    }
   ],
   "source": [
    "from .model import DialatedConv1d"
   ]
  },
  {
   "cell_type": "code",
   "execution_count": 38,
   "id": "de5d37cf",
   "metadata": {},
   "outputs": [
    {
     "data": {
      "text/plain": [
       "torch.Size([1, 32, 16])"
      ]
     },
     "execution_count": 38,
     "metadata": {},
     "output_type": "execute_result"
    }
   ],
   "source": [
    "dialted_conv = DialatedConv1d(1, residual_channels, dilation=dilation)\n",
    "dialted_conv(inputs).shape"
   ]
  },
  {
   "cell_type": "code",
   "execution_count": 39,
   "id": "afd1d432",
   "metadata": {},
   "outputs": [],
   "source": [
    "dialted_conv_filter = DialatedConv1d(1, residual_channels, dilation=dilation)\n",
    "dialted_conv_gate = DialatedConv1d(1, residual_channels, dilation=dilation)"
   ]
  },
  {
   "cell_type": "code",
   "execution_count": 9,
   "id": "8a356e8a",
   "metadata": {},
   "outputs": [
    {
     "data": {
      "text/plain": [
       "(torch.Size([1, 32, 16]), torch.Size([1, 32, 16]))"
      ]
     },
     "execution_count": 9,
     "metadata": {},
     "output_type": "execute_result"
    }
   ],
   "source": [
    "filter_out, gate_out = dialted_conv_filter(inputs), dialted_conv_gate(inputs)\n",
    "filter_out.shape, gate_out.shape"
   ]
  },
  {
   "cell_type": "code",
   "execution_count": 11,
   "id": "5748d775",
   "metadata": {},
   "outputs": [
    {
     "data": {
      "text/plain": [
       "torch.Size([1, 32, 16])"
      ]
     },
     "execution_count": 11,
     "metadata": {},
     "output_type": "execute_result"
    }
   ],
   "source": [
    "z = torch.tanh(filter_out) * torch.sigmoid(gate_out)\n",
    "z.shape"
   ]
  },
  {
   "cell_type": "code",
   "execution_count": 17,
   "id": "ddb0f4c0",
   "metadata": {},
   "outputs": [],
   "source": [
    "import torch.nn as nn\n",
    "\n",
    "class Conv1d1x1(nn.Conv1d):\n",
    "    def __init__(self, in_channels, out_channels,\n",
    "                 bias=False, device=None, dtype=None):\n",
    "        super(Conv1d1x1, self).__init__(in_channels, out_channels, kernel_size=1,\n",
    "                                        bias=bias, device=device, dtype=dtype)\n",
    "    def forward(self, inputs):\n",
    "        return super(Conv1d1x1, self).forward(inputs)"
   ]
  },
  {
   "cell_type": "code",
   "execution_count": 20,
   "id": "718b1ff8",
   "metadata": {},
   "outputs": [
    {
     "data": {
      "text/plain": [
       "torch.Size([1, 100, 16])"
      ]
     },
     "execution_count": 20,
     "metadata": {},
     "output_type": "execute_result"
    }
   ],
   "source": [
    "Conv1d1x1(residual_channels, 100)(z).shape"
   ]
  },
  {
   "cell_type": "code",
   "execution_count": 21,
   "id": "e81e73b6",
   "metadata": {},
   "outputs": [],
   "source": [
    "residual_1x1 = Conv1d1x1(residual_channels, residual_channels)\n",
    "skip_1x1 = Conv1d1x1(residual_channels, skip_channels)"
   ]
  },
  {
   "cell_type": "code",
   "execution_count": 23,
   "id": "c7732f8e",
   "metadata": {},
   "outputs": [
    {
     "data": {
      "text/plain": [
       "(torch.Size([1, 32, 16]), torch.Size([1, 512, 16]))"
      ]
     },
     "execution_count": 23,
     "metadata": {},
     "output_type": "execute_result"
    }
   ],
   "source": [
    "residual_out, skip_out = residual_1x1(z), skip_1x1(z)\n",
    "residual_out.shape, skip_out.shape"
   ]
  },
  {
   "cell_type": "code",
   "execution_count": 24,
   "id": "65368e2a",
   "metadata": {},
   "outputs": [
    {
     "data": {
      "text/plain": [
       "torch.Size([1, 1, 20])"
      ]
     },
     "execution_count": 24,
     "metadata": {},
     "output_type": "execute_result"
    }
   ],
   "source": [
    "inputs.shape"
   ]
  },
  {
   "cell_type": "markdown",
   "id": "cde1981d",
   "metadata": {},
   "source": [
    "Since input shape doesn't match the residual output we can clip them"
   ]
  },
  {
   "cell_type": "code",
   "execution_count": 25,
   "id": "548ed6e3",
   "metadata": {},
   "outputs": [
    {
     "data": {
      "text/plain": [
       "16"
      ]
     },
     "execution_count": 25,
     "metadata": {},
     "output_type": "execute_result"
    }
   ],
   "source": [
    "residual_out.size(2)"
   ]
  },
  {
   "cell_type": "code",
   "execution_count": 31,
   "id": "1ad16c3c",
   "metadata": {},
   "outputs": [
    {
     "data": {
      "text/plain": [
       "(tensor([[[ 5.,  6.,  7.,  8.,  9., 10., 11., 12., 13., 14., 15., 16., 17., 18.,\n",
       "           19., 20.]]]),\n",
       " torch.Size([1, 1, 16]))"
      ]
     },
     "execution_count": 31,
     "metadata": {},
     "output_type": "execute_result"
    }
   ],
   "source": [
    "clipped_inputs = inputs[:,:, -residual_out.size(2):]\n",
    "clipped_inputs, clipped_inputs.shape"
   ]
  },
  {
   "cell_type": "code",
   "execution_count": 32,
   "id": "b8c673ff",
   "metadata": {},
   "outputs": [],
   "source": [
    "residual_out += clipped_inputs"
   ]
  },
  {
   "cell_type": "code",
   "execution_count": 34,
   "id": "166805fa",
   "metadata": {},
   "outputs": [
    {
     "data": {
      "text/plain": [
       "(torch.Size([1, 32, 16]), torch.Size([1, 512, 16]))"
      ]
     },
     "execution_count": 34,
     "metadata": {},
     "output_type": "execute_result"
    }
   ],
   "source": [
    "residual_out.shape, skip_out.shape"
   ]
  },
  {
   "cell_type": "markdown",
   "id": "c2d52eb8",
   "metadata": {},
   "source": [
    "This is the output of the residual layer"
   ]
  },
  {
   "cell_type": "code",
   "execution_count": 53,
   "id": "53cc1fec",
   "metadata": {},
   "outputs": [],
   "source": [
    "import torch.nn as nn\n",
    "from model import DialatedConv1d\n",
    "\n",
    "class ResidualLayer(nn.Module):\n",
    "    def __init__(self, dilation, residual_channels=32, skip_channels=512,\n",
    "                 filter_in_channels=1, gate_in_channels=1):\n",
    "        super(ResidualLayer, self).__init__()\n",
    "        self.filter_dialated_conv = DialatedConv1d(filter_in_channels, residual_channels, dilation)\n",
    "        self.gate_dialted_conv = DialatedConv1d(gate_in_channels, residual_channels, dilation)\n",
    "        self.residual_1x1 = Conv1d1x1(residual_channels, residual_channels)\n",
    "        self.skip_1x1 = Conv1d1x1(residual_channels, skip_channels)\n",
    "        self.tanh = nn.Tanh()\n",
    "        self.sigmoid = nn.Sigmoid()\n",
    "    \n",
    "    def forward(self, inputs):\n",
    "        assert inputs.dim() == 3 # To clip the inputs\n",
    "        filter_out, gate_out = self.filter_dialated_conv(inputs), self.gate_dialted_conv(inputs)\n",
    "        z = self.tanh(filter_out) * self.sigmoid(gate_out)\n",
    "        residual_out, skip_out  = self.residual_1x1(z), self.skip_1x1(z)\n",
    "        clipped_inputs = inputs[:,:, -residual_out.size(2):]\n",
    "        residual_out += clipped_inputs\n",
    "        \n",
    "        return residual_out, skip_out"
   ]
  },
  {
   "cell_type": "code",
   "execution_count": 54,
   "id": "8b2d3d91",
   "metadata": {},
   "outputs": [
    {
     "data": {
      "text/plain": [
       "3"
      ]
     },
     "execution_count": 54,
     "metadata": {},
     "output_type": "execute_result"
    }
   ],
   "source": [
    "inputs.dim()"
   ]
  },
  {
   "cell_type": "code",
   "execution_count": 56,
   "id": "c30135e8",
   "metadata": {},
   "outputs": [
    {
     "data": {
      "text/plain": [
       "(torch.Size([1, 32, 16]), torch.Size([1, 512, 16]))"
      ]
     },
     "execution_count": 56,
     "metadata": {},
     "output_type": "execute_result"
    }
   ],
   "source": [
    "res_out, skip_out = ResidualLayer(dilation=2)(inputs)\n",
    "res_out.shape, skip_out.shape"
   ]
  }
 ],
 "metadata": {
  "kernelspec": {
   "display_name": "Python 3 (ipykernel)",
   "language": "python",
   "name": "python3"
  },
  "language_info": {
   "codemirror_mode": {
    "name": "ipython",
    "version": 3
   },
   "file_extension": ".py",
   "mimetype": "text/x-python",
   "name": "python",
   "nbconvert_exporter": "python",
   "pygments_lexer": "ipython3",
   "version": "3.10.6"
  },
  "toc": {
   "base_numbering": 1,
   "nav_menu": {},
   "number_sections": true,
   "sideBar": true,
   "skip_h1_title": false,
   "title_cell": "Table of Contents",
   "title_sidebar": "Contents",
   "toc_cell": false,
   "toc_position": {},
   "toc_section_display": true,
   "toc_window_display": false
  }
 },
 "nbformat": 4,
 "nbformat_minor": 5
}
