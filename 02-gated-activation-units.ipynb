{
 "cells": [
  {
   "cell_type": "code",
   "execution_count": 1,
   "id": "f44abe92",
   "metadata": {},
   "outputs": [],
   "source": [
    "import torch"
   ]
  },
  {
   "cell_type": "code",
   "execution_count": 12,
   "id": "deef1d36",
   "metadata": {},
   "outputs": [],
   "source": [
    "sample_data = torch.arange(10, dtype=torch.float).view(1,-1)"
   ]
  },
  {
   "cell_type": "code",
   "execution_count": 3,
   "id": "1c76871f",
   "metadata": {},
   "outputs": [],
   "source": [
    "import torch.nn as nn"
   ]
  },
  {
   "cell_type": "code",
   "execution_count": 5,
   "id": "58ef3fa2",
   "metadata": {},
   "outputs": [],
   "source": [
    "kernal_size = 3\n",
    "\n",
    "filter_conv = nn.Conv1d(1, 1, kernal_size)\n",
    "gated_conv = nn.Conv1d(1, 1, kernal_size)"
   ]
  },
  {
   "cell_type": "code",
   "execution_count": 14,
   "id": "f067fd7f",
   "metadata": {},
   "outputs": [
    {
     "data": {
      "text/plain": [
       "(torch.Size([1, 8]), torch.Size([1, 8]))"
      ]
     },
     "execution_count": 14,
     "metadata": {},
     "output_type": "execute_result"
    }
   ],
   "source": [
    "filter_conv(sample_data).shape, gated_conv(sample_data).shape"
   ]
  },
  {
   "cell_type": "code",
   "execution_count": 16,
   "id": "49edd415",
   "metadata": {},
   "outputs": [],
   "source": [
    "import torch.nn.functional as f"
   ]
  },
  {
   "cell_type": "code",
   "execution_count": 18,
   "id": "ebfa868f",
   "metadata": {},
   "outputs": [
    {
     "data": {
      "text/plain": [
       "tensor([[ 0.0611, -0.0986, -0.2513, -0.3645, -0.4413, -0.4961, -0.5395, -0.5773]],\n",
       "       grad_fn=<MulBackward0>)"
      ]
     },
     "execution_count": 18,
     "metadata": {},
     "output_type": "execute_result"
    }
   ],
   "source": [
    "f.tanh(filter_conv(sample_data)) * torch.sigmoid(gated_conv(sample_data))"
   ]
  },
  {
   "cell_type": "code",
   "execution_count": 29,
   "id": "11829c53",
   "metadata": {},
   "outputs": [
    {
     "data": {
      "text/plain": [
       "(tensor([[[-0.1500, -0.4963,  0.2028]]]), tensor([0.2682]))"
      ]
     },
     "execution_count": 29,
     "metadata": {},
     "output_type": "execute_result"
    }
   ],
   "source": [
    "filter_params = list(filter_conv.parameters())\n",
    "filter_weights, filter_bias = filter_params[0].data, filter_params[1].data\n",
    "filter_weights, filter_bias"
   ]
  },
  {
   "cell_type": "code",
   "execution_count": 30,
   "id": "6f29a7dc",
   "metadata": {},
   "outputs": [
    {
     "data": {
      "text/plain": [
       "(tensor([[[ 0.4337, -0.3176,  0.0203]]]), tensor([-0.3524]))"
      ]
     },
     "execution_count": 30,
     "metadata": {},
     "output_type": "execute_result"
    }
   ],
   "source": [
    "gated_params = list(gated_conv.parameters())\n",
    "gated_weights, gated_bias = gated_params[0].data, gated_params[1].data\n",
    "gated_weights, gated_bias"
   ]
  },
  {
   "cell_type": "code",
   "execution_count": 36,
   "id": "2a51a054",
   "metadata": {},
   "outputs": [
    {
     "name": "stdout",
     "output_type": "stream",
     "text": [
      "tensor([[0., 1., 2.]])\n",
      "tensor([[1., 2., 3.]])\n",
      "tensor([[2., 3., 4.]])\n",
      "tensor([[3., 4., 5.]])\n",
      "tensor([[4., 5., 6.]])\n",
      "tensor([[5., 6., 7.]])\n",
      "tensor([[6., 7., 8.]])\n",
      "tensor([[7., 8., 9.]])\n",
      "tensor([[8., 9.]])\n",
      "tensor([[9.]])\n"
     ]
    }
   ],
   "source": [
    "input_size = sample_data.size(-1)\n",
    "\n",
    "for i in range(input_size):\n",
    "    print(sample_data[:,i:i+kernal_size])"
   ]
  },
  {
   "cell_type": "code",
   "execution_count": 39,
   "id": "418a276c",
   "metadata": {},
   "outputs": [
    {
     "name": "stdout",
     "output_type": "stream",
     "text": [
      "tensor([-0.0907])\n",
      "tensor([-0.5342])\n",
      "tensor([-0.9777])\n",
      "tensor([-1.4212])\n",
      "tensor([-1.8647])\n",
      "tensor([-2.3082])\n",
      "tensor([-2.7517])\n",
      "tensor([-3.1952])\n"
     ]
    }
   ],
   "source": [
    "for i in range(input_size - kernal_size + 1):\n",
    "    data = sample_data[:,i:i+kernal_size]\n",
    "    print(data.squeeze(0)@filter_weights.squeeze(0).T)"
   ]
  },
  {
   "cell_type": "code",
   "execution_count": 41,
   "id": "845de707",
   "metadata": {},
   "outputs": [
    {
     "name": "stdout",
     "output_type": "stream",
     "text": [
      "tensor([0.1775])\n",
      "tensor([-0.2660])\n",
      "tensor([-0.7095])\n",
      "tensor([-1.1530])\n",
      "tensor([-1.5965])\n",
      "tensor([-2.0400])\n",
      "tensor([-2.4835])\n",
      "tensor([-2.9270])\n"
     ]
    }
   ],
   "source": [
    "for i in range(input_size - kernal_size + 1):\n",
    "    data = sample_data[:,i:i+kernal_size]\n",
    "    print(data.squeeze(0)@filter_weights.squeeze(0).T + filter_bias) "
   ]
  },
  {
   "cell_type": "code",
   "execution_count": 46,
   "id": "b8bf1299",
   "metadata": {},
   "outputs": [
    {
     "name": "stdout",
     "output_type": "stream",
     "text": [
      "tensor([ 0.1775, -0.2660, -0.7095, -1.1530, -1.5965, -2.0400, -2.4835, -2.9270])\n"
     ]
    }
   ],
   "source": [
    "outputs = torch.tensor([])\n",
    "for i in range(input_size - kernal_size + 1):\n",
    "    data = sample_data[:,i:i+kernal_size]\n",
    "    activation = data.squeeze(0)@filter_weights.squeeze(0).T + filter_bias\n",
    "    outputs = torch.cat((outputs, activation))\n",
    "\n",
    "print(outputs)"
   ]
  },
  {
   "cell_type": "code",
   "execution_count": 50,
   "id": "c97f03f2",
   "metadata": {},
   "outputs": [],
   "source": [
    "def conv(inputs, weights, bias):\n",
    "    input_size = inputs.size(-1)\n",
    "    \n",
    "    outputs = torch.tensor([])\n",
    "    for i in range(input_size - kernal_size + 1):\n",
    "        data = inputs[:,i:i+kernal_size]\n",
    "        activation = data.squeeze(0)@weights.squeeze(0).T + bias\n",
    "        outputs = torch.cat((outputs, activation))\n",
    "     \n",
    "    return outputs"
   ]
  },
  {
   "cell_type": "code",
   "execution_count": 51,
   "id": "b03257f9",
   "metadata": {},
   "outputs": [
    {
     "data": {
      "text/plain": [
       "tensor([ 0.1775, -0.2660, -0.7095, -1.1530, -1.5965, -2.0400, -2.4835, -2.9270])"
      ]
     },
     "execution_count": 51,
     "metadata": {},
     "output_type": "execute_result"
    }
   ],
   "source": [
    "conv(sample_data, filter_weights, filter_bias)"
   ]
  },
  {
   "cell_type": "code",
   "execution_count": 54,
   "id": "fa32e56c",
   "metadata": {},
   "outputs": [
    {
     "data": {
      "text/plain": [
       "tensor([ 0.0611, -0.0986, -0.2513, -0.3645, -0.4413, -0.4961, -0.5395, -0.5773])"
      ]
     },
     "execution_count": 54,
     "metadata": {},
     "output_type": "execute_result"
    }
   ],
   "source": [
    "torch.tanh(conv(sample_data, filter_weights, filter_bias)) * torch.sigmoid(conv(sample_data, gated_weights, gated_bias))"
   ]
  },
  {
   "cell_type": "code",
   "execution_count": null,
   "id": "e4f15204",
   "metadata": {},
   "outputs": [],
   "source": []
  }
 ],
 "metadata": {
  "kernelspec": {
   "display_name": "Python 3 (ipykernel)",
   "language": "python",
   "name": "python3"
  },
  "language_info": {
   "codemirror_mode": {
    "name": "ipython",
    "version": 3
   },
   "file_extension": ".py",
   "mimetype": "text/x-python",
   "name": "python",
   "nbconvert_exporter": "python",
   "pygments_lexer": "ipython3",
   "version": "3.10.6"
  },
  "toc": {
   "base_numbering": 1,
   "nav_menu": {},
   "number_sections": true,
   "sideBar": true,
   "skip_h1_title": false,
   "title_cell": "Table of Contents",
   "title_sidebar": "Contents",
   "toc_cell": false,
   "toc_position": {},
   "toc_section_display": true,
   "toc_window_display": false
  }
 },
 "nbformat": 4,
 "nbformat_minor": 5
}
