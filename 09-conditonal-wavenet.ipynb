{
 "cells": [
  {
   "cell_type": "markdown",
   "id": "390e44f2",
   "metadata": {},
   "source": [
    "From the previous implementation of our wavenet we left out how the conditonal and global outputs would be added together. Now we can fill in that part with resized contional inputs"
   ]
  },
  {
   "cell_type": "code",
   "execution_count": 1,
   "id": "5cb76338",
   "metadata": {},
   "outputs": [],
   "source": [
    "import torch\n",
    "import torchaudio.datasets as datasets\n",
    "from model import WaveNet"
   ]
  },
  {
   "cell_type": "code",
   "execution_count": 2,
   "id": "c7ec939b",
   "metadata": {},
   "outputs": [],
   "source": [
    "dataset = datasets.LJSPEECH(\"../data\")"
   ]
  },
  {
   "cell_type": "code",
   "execution_count": 3,
   "id": "960ceefe",
   "metadata": {},
   "outputs": [
    {
     "data": {
      "text/plain": [
       "(tensor([[-7.3242e-04, -7.6294e-04, -6.4087e-04,  ...,  7.3242e-04,\n",
       "           2.1362e-04,  6.1035e-05]]),\n",
       " 22050,\n",
       " 'Printing, in the only sense with which we are at present concerned, differs from most if not from all the arts and crafts represented in the Exhibition')"
      ]
     },
     "execution_count": 3,
     "metadata": {},
     "output_type": "execute_result"
    }
   ],
   "source": [
    "waveform, sample_rate, transcript, normalized_transcript = dataset[0]\n",
    "\n",
    "waveform, sample_rate, normalized_transcript"
   ]
  },
  {
   "cell_type": "code",
   "execution_count": 4,
   "id": "6b7944fd",
   "metadata": {},
   "outputs": [
    {
     "data": {
      "text/plain": [
       "(torch.Size([1, 5, 6]), 5)"
      ]
     },
     "execution_count": 4,
     "metadata": {},
     "output_type": "execute_result"
    }
   ],
   "source": [
    "local_inputs = torch.randn((1,5,6))\n",
    "local_inputs.shape, local_inputs.size(1)"
   ]
  },
  {
   "cell_type": "code",
   "execution_count": 5,
   "id": "5b4d77c1",
   "metadata": {},
   "outputs": [],
   "source": [
    "model = WaveNet(2, 2, 2, local_channels=local_inputs.size(1))"
   ]
  },
  {
   "cell_type": "code",
   "execution_count": 6,
   "id": "cd6217a0",
   "metadata": {},
   "outputs": [
    {
     "name": "stderr",
     "output_type": "stream",
     "text": [
      "[W NNPACK.cpp:53] Could not initialize NNPACK! Reason: Unsupported hardware.\n"
     ]
    },
    {
     "data": {
      "text/plain": [
       "torch.Size([1, 256, 1])"
      ]
     },
     "execution_count": 6,
     "metadata": {},
     "output_type": "execute_result"
    }
   ],
   "source": [
    "probs = model(waveform.view(1, 1, -1), local_inputs)\n",
    "probs.shape"
   ]
  },
  {
   "cell_type": "code",
   "execution_count": 7,
   "id": "edeb842d",
   "metadata": {},
   "outputs": [],
   "source": [
    "from preprocess import decodeMuLaw"
   ]
  },
  {
   "cell_type": "code",
   "execution_count": 8,
   "id": "519b8397",
   "metadata": {},
   "outputs": [
    {
     "data": {
      "text/plain": [
       "(tensor(167), tensor(0.0175))"
      ]
     },
     "execution_count": 8,
     "metadata": {},
     "output_type": "execute_result"
    }
   ],
   "source": [
    "classification = torch.argmax(probs)\n",
    "predicted_output = decodeMuLaw(classification)\n",
    "classification, predicted_output"
   ]
  },
  {
   "cell_type": "code",
   "execution_count": 9,
   "id": "3412855e",
   "metadata": {},
   "outputs": [],
   "source": [
    "import torch.nn.functional as f"
   ]
  },
  {
   "cell_type": "code",
   "execution_count": 10,
   "id": "9572abb5",
   "metadata": {},
   "outputs": [],
   "source": [
    "waveforms = [dataset[i][0] for i in range(3)]"
   ]
  },
  {
   "cell_type": "code",
   "execution_count": 11,
   "id": "fa6346c5",
   "metadata": {},
   "outputs": [
    {
     "data": {
      "text/plain": [
       "213149"
      ]
     },
     "execution_count": 11,
     "metadata": {},
     "output_type": "execute_result"
    }
   ],
   "source": [
    "max_size = max(list(map(lambda x: x.size(-1), waveforms)))\n",
    "max_size"
   ]
  },
  {
   "cell_type": "code",
   "execution_count": 12,
   "id": "9cb9ac6f",
   "metadata": {},
   "outputs": [
    {
     "data": {
      "text/plain": [
       "torch.Size([1, 213149])"
      ]
     },
     "execution_count": 12,
     "metadata": {},
     "output_type": "execute_result"
    }
   ],
   "source": [
    "f.pad(waveforms[0], (0, max_size-waveforms[0].size(-1))).shape"
   ]
  },
  {
   "cell_type": "code",
   "execution_count": 13,
   "id": "4ff5b1e7",
   "metadata": {},
   "outputs": [
    {
     "data": {
      "text/plain": [
       "torch.Size([3, 1, 213149])"
      ]
     },
     "execution_count": 13,
     "metadata": {},
     "output_type": "execute_result"
    }
   ],
   "source": [
    "padded_waveforms = list(map(lambda x: f.pad(x, (0, max_size-x.size(-1))), waveforms))\n",
    "inputs = torch.stack(padded_waveforms)\n",
    "inputs.shape"
   ]
  },
  {
   "cell_type": "code",
   "execution_count": 14,
   "id": "e1365bda",
   "metadata": {},
   "outputs": [
    {
     "data": {
      "text/plain": [
       "torch.Size([3, 5, 6])"
      ]
     },
     "execution_count": 14,
     "metadata": {},
     "output_type": "execute_result"
    }
   ],
   "source": [
    "repeated_local_inputs = local_inputs.repeat(3,1,1)\n",
    "repeated_local_inputs.shape"
   ]
  },
  {
   "cell_type": "code",
   "execution_count": 15,
   "id": "cc90aa44",
   "metadata": {},
   "outputs": [
    {
     "data": {
      "text/plain": [
       "torch.Size([3, 256, 1])"
      ]
     },
     "execution_count": 15,
     "metadata": {},
     "output_type": "execute_result"
    }
   ],
   "source": [
    "model(inputs, repeated_local_inputs).shape"
   ]
  },
  {
   "cell_type": "code",
   "execution_count": null,
   "id": "5c5ac9af",
   "metadata": {},
   "outputs": [],
   "source": []
  }
 ],
 "metadata": {
  "kernelspec": {
   "display_name": "Python 3 (ipykernel)",
   "language": "python",
   "name": "python3"
  },
  "language_info": {
   "codemirror_mode": {
    "name": "ipython",
    "version": 3
   },
   "file_extension": ".py",
   "mimetype": "text/x-python",
   "name": "python",
   "nbconvert_exporter": "python",
   "pygments_lexer": "ipython3",
   "version": "3.10.6"
  },
  "toc": {
   "base_numbering": 1,
   "nav_menu": {},
   "number_sections": true,
   "sideBar": true,
   "skip_h1_title": false,
   "title_cell": "Table of Contents",
   "title_sidebar": "Contents",
   "toc_cell": false,
   "toc_position": {},
   "toc_section_display": true,
   "toc_window_display": false
  }
 },
 "nbformat": 4,
 "nbformat_minor": 5
}
